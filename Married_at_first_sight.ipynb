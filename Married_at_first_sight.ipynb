{
  "nbformat": 4,
  "nbformat_minor": 0,
  "metadata": {
    "colab": {
      "name": "Married at first sight.ipynb",
      "provenance": [],
      "collapsed_sections": [],
      "authorship_tag": "ABX9TyMwGUSyVSvMICPNbWmxxTB5",
      "include_colab_link": true
    },
    "kernelspec": {
      "name": "python3",
      "display_name": "Python 3"
    }
  },
  "cells": [
    {
      "cell_type": "markdown",
      "metadata": {
        "id": "view-in-github",
        "colab_type": "text"
      },
      "source": [
        "<a href=\"https://colab.research.google.com/github/narsym/married-at-first-sight/blob/master/Married_at_first_sight.ipynb\" target=\"_parent\"><img src=\"https://colab.research.google.com/assets/colab-badge.svg\" alt=\"Open In Colab\"/></a>"
      ]
    },
    {
      "cell_type": "markdown",
      "metadata": {
        "id": "TxIdUttByDGG",
        "colab_type": "text"
      },
      "source": [
        "Import data from github\n",
        "\n",
        " "
      ]
    },
    {
      "cell_type": "code",
      "metadata": {
        "id": "5C0y_p1PyFB0",
        "colab_type": "code",
        "colab": {}
      },
      "source": [
        "url = 'https://raw.githubusercontent.com/narsym/married-at-first-sight/master/mafs.csv'"
      ],
      "execution_count": 0,
      "outputs": []
    },
    {
      "cell_type": "markdown",
      "metadata": {
        "id": "u-DSxEHRyXYz",
        "colab_type": "text"
      },
      "source": [
        "Read data with pandas"
      ]
    },
    {
      "cell_type": "code",
      "metadata": {
        "id": "yjZMD0xPceRo",
        "colab_type": "code",
        "outputId": "7b79a169-c460-4845-8241-645998f4749d",
        "colab": {
          "base_uri": "https://localhost:8080/",
          "height": 573
        }
      },
      "source": [
        "import pandas as pd\n",
        "data = pd.read_csv(url)\n",
        "data.head()"
      ],
      "execution_count": 2,
      "outputs": [
        {
          "output_type": "execute_result",
          "data": {
            "text/html": [
              "<div>\n",
              "<style scoped>\n",
              "    .dataframe tbody tr th:only-of-type {\n",
              "        vertical-align: middle;\n",
              "    }\n",
              "\n",
              "    .dataframe tbody tr th {\n",
              "        vertical-align: top;\n",
              "    }\n",
              "\n",
              "    .dataframe thead th {\n",
              "        text-align: right;\n",
              "    }\n",
              "</style>\n",
              "<table border=\"1\" class=\"dataframe\">\n",
              "  <thead>\n",
              "    <tr style=\"text-align: right;\">\n",
              "      <th></th>\n",
              "      <th>Couple</th>\n",
              "      <th>Season</th>\n",
              "      <th>Location</th>\n",
              "      <th>Name</th>\n",
              "      <th>Age</th>\n",
              "      <th>Gender</th>\n",
              "      <th>Occupation</th>\n",
              "      <th>Decision</th>\n",
              "      <th>Status</th>\n",
              "      <th>DrPepperSchwartz</th>\n",
              "      <th>DrLoganLevkoff</th>\n",
              "      <th>DrJosephCilona</th>\n",
              "      <th>ChaplainGregEpstein</th>\n",
              "      <th>PastorCalvinRoberson</th>\n",
              "      <th>RachelDeAlto</th>\n",
              "      <th>DrJessicaGriffin</th>\n",
              "      <th>DrVivianaColes</th>\n",
              "    </tr>\n",
              "  </thead>\n",
              "  <tbody>\n",
              "    <tr>\n",
              "      <th>0</th>\n",
              "      <td>1</td>\n",
              "      <td>1</td>\n",
              "      <td>New York City and Northern New Jersey</td>\n",
              "      <td>Jamie Otis-Hehner</td>\n",
              "      <td>27</td>\n",
              "      <td>F</td>\n",
              "      <td>Nurse</td>\n",
              "      <td>Yes</td>\n",
              "      <td>Married</td>\n",
              "      <td>1</td>\n",
              "      <td>1</td>\n",
              "      <td>1</td>\n",
              "      <td>1</td>\n",
              "      <td>0</td>\n",
              "      <td>0</td>\n",
              "      <td>0</td>\n",
              "      <td>0</td>\n",
              "    </tr>\n",
              "    <tr>\n",
              "      <th>1</th>\n",
              "      <td>1</td>\n",
              "      <td>1</td>\n",
              "      <td>New York City and Northern New Jersey</td>\n",
              "      <td>Doug Hehner</td>\n",
              "      <td>31</td>\n",
              "      <td>M</td>\n",
              "      <td>Software salesman</td>\n",
              "      <td>Yes</td>\n",
              "      <td>Married</td>\n",
              "      <td>1</td>\n",
              "      <td>1</td>\n",
              "      <td>1</td>\n",
              "      <td>1</td>\n",
              "      <td>0</td>\n",
              "      <td>0</td>\n",
              "      <td>0</td>\n",
              "      <td>0</td>\n",
              "    </tr>\n",
              "    <tr>\n",
              "      <th>2</th>\n",
              "      <td>2</td>\n",
              "      <td>1</td>\n",
              "      <td>New York City and Northern New Jersey</td>\n",
              "      <td>Cortney Hendrix</td>\n",
              "      <td>26</td>\n",
              "      <td>F</td>\n",
              "      <td>Make-up artist</td>\n",
              "      <td>Yes</td>\n",
              "      <td>Divorced</td>\n",
              "      <td>1</td>\n",
              "      <td>1</td>\n",
              "      <td>1</td>\n",
              "      <td>1</td>\n",
              "      <td>0</td>\n",
              "      <td>0</td>\n",
              "      <td>0</td>\n",
              "      <td>0</td>\n",
              "    </tr>\n",
              "    <tr>\n",
              "      <th>3</th>\n",
              "      <td>2</td>\n",
              "      <td>1</td>\n",
              "      <td>New York City and Northern New Jersey</td>\n",
              "      <td>Jason Carrion</td>\n",
              "      <td>27</td>\n",
              "      <td>M</td>\n",
              "      <td>Fireman</td>\n",
              "      <td>Yes</td>\n",
              "      <td>Divorced</td>\n",
              "      <td>1</td>\n",
              "      <td>1</td>\n",
              "      <td>1</td>\n",
              "      <td>1</td>\n",
              "      <td>0</td>\n",
              "      <td>0</td>\n",
              "      <td>0</td>\n",
              "      <td>0</td>\n",
              "    </tr>\n",
              "    <tr>\n",
              "      <th>4</th>\n",
              "      <td>3</td>\n",
              "      <td>1</td>\n",
              "      <td>New York City and Northern New Jersey</td>\n",
              "      <td>Monet Bell</td>\n",
              "      <td>33</td>\n",
              "      <td>F</td>\n",
              "      <td>Product development manager</td>\n",
              "      <td>No</td>\n",
              "      <td>Divorced</td>\n",
              "      <td>1</td>\n",
              "      <td>1</td>\n",
              "      <td>1</td>\n",
              "      <td>1</td>\n",
              "      <td>0</td>\n",
              "      <td>0</td>\n",
              "      <td>0</td>\n",
              "      <td>0</td>\n",
              "    </tr>\n",
              "  </tbody>\n",
              "</table>\n",
              "</div>"
            ],
            "text/plain": [
              "   Couple  Season  ... DrJessicaGriffin DrVivianaColes\n",
              "0       1       1  ...                0              0\n",
              "1       1       1  ...                0              0\n",
              "2       2       1  ...                0              0\n",
              "3       2       1  ...                0              0\n",
              "4       3       1  ...                0              0\n",
              "\n",
              "[5 rows x 17 columns]"
            ]
          },
          "metadata": {
            "tags": []
          },
          "execution_count": 2
        }
      ]
    },
    {
      "cell_type": "markdown",
      "metadata": {
        "id": "ei5SAYqkydU9",
        "colab_type": "text"
      },
      "source": [
        "Import other libraries"
      ]
    },
    {
      "cell_type": "code",
      "metadata": {
        "id": "sBEJSBooc_Px",
        "colab_type": "code",
        "colab": {
          "base_uri": "https://localhost:8080/",
          "height": 73
        },
        "outputId": "63e1422d-0830-4114-fc18-f0dd18e9bd47"
      },
      "source": [
        "import numpy as np\n",
        "import matplotlib.pyplot as plt\n",
        "import seaborn as sns\n",
        "%matplotlib inline"
      ],
      "execution_count": 3,
      "outputs": [
        {
          "output_type": "stream",
          "text": [
            "/usr/local/lib/python3.6/dist-packages/statsmodels/tools/_testing.py:19: FutureWarning: pandas.util.testing is deprecated. Use the functions in the public API at pandas.testing instead.\n",
            "  import pandas.util.testing as tm\n"
          ],
          "name": "stderr"
        }
      ]
    },
    {
      "cell_type": "markdown",
      "metadata": {
        "id": "mxsSXIN2yiZ4",
        "colab_type": "text"
      },
      "source": [
        "Information about the data"
      ]
    },
    {
      "cell_type": "code",
      "metadata": {
        "id": "ttsB55bycodl",
        "colab_type": "code",
        "outputId": "aa76f984-822d-4364-d5e8-eb9d5fcd7520",
        "colab": {
          "base_uri": "https://localhost:8080/",
          "height": 453
        }
      },
      "source": [
        "data.info()"
      ],
      "execution_count": 4,
      "outputs": [
        {
          "output_type": "stream",
          "text": [
            "<class 'pandas.core.frame.DataFrame'>\n",
            "RangeIndex: 68 entries, 0 to 67\n",
            "Data columns (total 17 columns):\n",
            " #   Column                Non-Null Count  Dtype \n",
            "---  ------                --------------  ----- \n",
            " 0   Couple                68 non-null     int64 \n",
            " 1   Season                68 non-null     int64 \n",
            " 2   Location              68 non-null     object\n",
            " 3   Name                  68 non-null     object\n",
            " 4   Age                   68 non-null     int64 \n",
            " 5   Gender                68 non-null     object\n",
            " 6   Occupation            68 non-null     object\n",
            " 7   Decision              68 non-null     object\n",
            " 8   Status                68 non-null     object\n",
            " 9   DrPepperSchwartz      68 non-null     int64 \n",
            " 10  DrLoganLevkoff        68 non-null     int64 \n",
            " 11  DrJosephCilona        68 non-null     int64 \n",
            " 12  ChaplainGregEpstein   68 non-null     int64 \n",
            " 13  PastorCalvinRoberson  68 non-null     int64 \n",
            " 14  RachelDeAlto          68 non-null     int64 \n",
            " 15  DrJessicaGriffin      68 non-null     int64 \n",
            " 16  DrVivianaColes        68 non-null     int64 \n",
            "dtypes: int64(11), object(6)\n",
            "memory usage: 9.2+ KB\n"
          ],
          "name": "stdout"
        }
      ]
    },
    {
      "cell_type": "markdown",
      "metadata": {
        "id": "1PnQr8Luynio",
        "colab_type": "text"
      },
      "source": [
        "Separting categorical and numerical attributes"
      ]
    },
    {
      "cell_type": "code",
      "metadata": {
        "id": "ithcwqVBc4Yz",
        "colab_type": "code",
        "colab": {}
      },
      "source": [
        "numd = data.select_dtypes(np.number)\n",
        "catd = data.select_dtypes(object)"
      ],
      "execution_count": 0,
      "outputs": []
    },
    {
      "cell_type": "code",
      "metadata": {
        "id": "PC8PwAwRdlD3",
        "colab_type": "code",
        "outputId": "5be23386-a6d3-434b-a9e1-788049de98c9",
        "colab": {
          "base_uri": "https://localhost:8080/",
          "height": 206
        }
      },
      "source": [
        "numd.head()"
      ],
      "execution_count": 6,
      "outputs": [
        {
          "output_type": "execute_result",
          "data": {
            "text/html": [
              "<div>\n",
              "<style scoped>\n",
              "    .dataframe tbody tr th:only-of-type {\n",
              "        vertical-align: middle;\n",
              "    }\n",
              "\n",
              "    .dataframe tbody tr th {\n",
              "        vertical-align: top;\n",
              "    }\n",
              "\n",
              "    .dataframe thead th {\n",
              "        text-align: right;\n",
              "    }\n",
              "</style>\n",
              "<table border=\"1\" class=\"dataframe\">\n",
              "  <thead>\n",
              "    <tr style=\"text-align: right;\">\n",
              "      <th></th>\n",
              "      <th>Couple</th>\n",
              "      <th>Season</th>\n",
              "      <th>Age</th>\n",
              "      <th>DrPepperSchwartz</th>\n",
              "      <th>DrLoganLevkoff</th>\n",
              "      <th>DrJosephCilona</th>\n",
              "      <th>ChaplainGregEpstein</th>\n",
              "      <th>PastorCalvinRoberson</th>\n",
              "      <th>RachelDeAlto</th>\n",
              "      <th>DrJessicaGriffin</th>\n",
              "      <th>DrVivianaColes</th>\n",
              "    </tr>\n",
              "  </thead>\n",
              "  <tbody>\n",
              "    <tr>\n",
              "      <th>0</th>\n",
              "      <td>1</td>\n",
              "      <td>1</td>\n",
              "      <td>27</td>\n",
              "      <td>1</td>\n",
              "      <td>1</td>\n",
              "      <td>1</td>\n",
              "      <td>1</td>\n",
              "      <td>0</td>\n",
              "      <td>0</td>\n",
              "      <td>0</td>\n",
              "      <td>0</td>\n",
              "    </tr>\n",
              "    <tr>\n",
              "      <th>1</th>\n",
              "      <td>1</td>\n",
              "      <td>1</td>\n",
              "      <td>31</td>\n",
              "      <td>1</td>\n",
              "      <td>1</td>\n",
              "      <td>1</td>\n",
              "      <td>1</td>\n",
              "      <td>0</td>\n",
              "      <td>0</td>\n",
              "      <td>0</td>\n",
              "      <td>0</td>\n",
              "    </tr>\n",
              "    <tr>\n",
              "      <th>2</th>\n",
              "      <td>2</td>\n",
              "      <td>1</td>\n",
              "      <td>26</td>\n",
              "      <td>1</td>\n",
              "      <td>1</td>\n",
              "      <td>1</td>\n",
              "      <td>1</td>\n",
              "      <td>0</td>\n",
              "      <td>0</td>\n",
              "      <td>0</td>\n",
              "      <td>0</td>\n",
              "    </tr>\n",
              "    <tr>\n",
              "      <th>3</th>\n",
              "      <td>2</td>\n",
              "      <td>1</td>\n",
              "      <td>27</td>\n",
              "      <td>1</td>\n",
              "      <td>1</td>\n",
              "      <td>1</td>\n",
              "      <td>1</td>\n",
              "      <td>0</td>\n",
              "      <td>0</td>\n",
              "      <td>0</td>\n",
              "      <td>0</td>\n",
              "    </tr>\n",
              "    <tr>\n",
              "      <th>4</th>\n",
              "      <td>3</td>\n",
              "      <td>1</td>\n",
              "      <td>33</td>\n",
              "      <td>1</td>\n",
              "      <td>1</td>\n",
              "      <td>1</td>\n",
              "      <td>1</td>\n",
              "      <td>0</td>\n",
              "      <td>0</td>\n",
              "      <td>0</td>\n",
              "      <td>0</td>\n",
              "    </tr>\n",
              "  </tbody>\n",
              "</table>\n",
              "</div>"
            ],
            "text/plain": [
              "   Couple  Season  Age  ...  RachelDeAlto  DrJessicaGriffin  DrVivianaColes\n",
              "0       1       1   27  ...             0                 0               0\n",
              "1       1       1   31  ...             0                 0               0\n",
              "2       2       1   26  ...             0                 0               0\n",
              "3       2       1   27  ...             0                 0               0\n",
              "4       3       1   33  ...             0                 0               0\n",
              "\n",
              "[5 rows x 11 columns]"
            ]
          },
          "metadata": {
            "tags": []
          },
          "execution_count": 6
        }
      ]
    },
    {
      "cell_type": "code",
      "metadata": {
        "id": "bNY1viuYdl88",
        "colab_type": "code",
        "outputId": "a6debe92-072e-4b44-bbf3-bb7adb87d929",
        "colab": {
          "base_uri": "https://localhost:8080/",
          "height": 206
        }
      },
      "source": [
        "catd.head()"
      ],
      "execution_count": 7,
      "outputs": [
        {
          "output_type": "execute_result",
          "data": {
            "text/html": [
              "<div>\n",
              "<style scoped>\n",
              "    .dataframe tbody tr th:only-of-type {\n",
              "        vertical-align: middle;\n",
              "    }\n",
              "\n",
              "    .dataframe tbody tr th {\n",
              "        vertical-align: top;\n",
              "    }\n",
              "\n",
              "    .dataframe thead th {\n",
              "        text-align: right;\n",
              "    }\n",
              "</style>\n",
              "<table border=\"1\" class=\"dataframe\">\n",
              "  <thead>\n",
              "    <tr style=\"text-align: right;\">\n",
              "      <th></th>\n",
              "      <th>Location</th>\n",
              "      <th>Name</th>\n",
              "      <th>Gender</th>\n",
              "      <th>Occupation</th>\n",
              "      <th>Decision</th>\n",
              "      <th>Status</th>\n",
              "    </tr>\n",
              "  </thead>\n",
              "  <tbody>\n",
              "    <tr>\n",
              "      <th>0</th>\n",
              "      <td>New York City and Northern New Jersey</td>\n",
              "      <td>Jamie Otis-Hehner</td>\n",
              "      <td>F</td>\n",
              "      <td>Nurse</td>\n",
              "      <td>Yes</td>\n",
              "      <td>Married</td>\n",
              "    </tr>\n",
              "    <tr>\n",
              "      <th>1</th>\n",
              "      <td>New York City and Northern New Jersey</td>\n",
              "      <td>Doug Hehner</td>\n",
              "      <td>M</td>\n",
              "      <td>Software salesman</td>\n",
              "      <td>Yes</td>\n",
              "      <td>Married</td>\n",
              "    </tr>\n",
              "    <tr>\n",
              "      <th>2</th>\n",
              "      <td>New York City and Northern New Jersey</td>\n",
              "      <td>Cortney Hendrix</td>\n",
              "      <td>F</td>\n",
              "      <td>Make-up artist</td>\n",
              "      <td>Yes</td>\n",
              "      <td>Divorced</td>\n",
              "    </tr>\n",
              "    <tr>\n",
              "      <th>3</th>\n",
              "      <td>New York City and Northern New Jersey</td>\n",
              "      <td>Jason Carrion</td>\n",
              "      <td>M</td>\n",
              "      <td>Fireman</td>\n",
              "      <td>Yes</td>\n",
              "      <td>Divorced</td>\n",
              "    </tr>\n",
              "    <tr>\n",
              "      <th>4</th>\n",
              "      <td>New York City and Northern New Jersey</td>\n",
              "      <td>Monet Bell</td>\n",
              "      <td>F</td>\n",
              "      <td>Product development manager</td>\n",
              "      <td>No</td>\n",
              "      <td>Divorced</td>\n",
              "    </tr>\n",
              "  </tbody>\n",
              "</table>\n",
              "</div>"
            ],
            "text/plain": [
              "                                Location               Name  ... Decision    Status\n",
              "0  New York City and Northern New Jersey  Jamie Otis-Hehner  ...      Yes   Married\n",
              "1  New York City and Northern New Jersey        Doug Hehner  ...      Yes   Married\n",
              "2  New York City and Northern New Jersey    Cortney Hendrix  ...      Yes  Divorced\n",
              "3  New York City and Northern New Jersey      Jason Carrion  ...      Yes  Divorced\n",
              "4  New York City and Northern New Jersey         Monet Bell  ...       No  Divorced\n",
              "\n",
              "[5 rows x 6 columns]"
            ]
          },
          "metadata": {
            "tags": []
          },
          "execution_count": 7
        }
      ]
    },
    {
      "cell_type": "markdown",
      "metadata": {
        "id": "-Gmz9jjcywNa",
        "colab_type": "text"
      },
      "source": [
        "encoding categorical attributes"
      ]
    },
    {
      "cell_type": "code",
      "metadata": {
        "id": "47Bl30Hmd5wu",
        "colab_type": "code",
        "colab": {}
      },
      "source": [
        "from sklearn.preprocessing import OrdinalEncoder\n",
        "oe = OrdinalEncoder()\n",
        "def encode(col):\n",
        "  col_enc = oe.fit_transform(col)\n",
        "  col_enc = pd.DataFrame(col_enc)\n",
        "  col_enc.columns = col.columns\n",
        "  return col_enc\n"
      ],
      "execution_count": 0,
      "outputs": []
    },
    {
      "cell_type": "code",
      "metadata": {
        "id": "64P0N6E3e0fQ",
        "colab_type": "code",
        "colab": {}
      },
      "source": [
        "catd_enc = encode(catd)"
      ],
      "execution_count": 0,
      "outputs": []
    },
    {
      "cell_type": "code",
      "metadata": {
        "id": "xueZyRdee56R",
        "colab_type": "code",
        "outputId": "c1f25580-8e54-4e37-945a-dd3ef1ab9242",
        "colab": {
          "base_uri": "https://localhost:8080/",
          "height": 206
        }
      },
      "source": [
        "catd_enc.head()"
      ],
      "execution_count": 10,
      "outputs": [
        {
          "output_type": "execute_result",
          "data": {
            "text/html": [
              "<div>\n",
              "<style scoped>\n",
              "    .dataframe tbody tr th:only-of-type {\n",
              "        vertical-align: middle;\n",
              "    }\n",
              "\n",
              "    .dataframe tbody tr th {\n",
              "        vertical-align: top;\n",
              "    }\n",
              "\n",
              "    .dataframe thead th {\n",
              "        text-align: right;\n",
              "    }\n",
              "</style>\n",
              "<table border=\"1\" class=\"dataframe\">\n",
              "  <thead>\n",
              "    <tr style=\"text-align: right;\">\n",
              "      <th></th>\n",
              "      <th>Location</th>\n",
              "      <th>Name</th>\n",
              "      <th>Gender</th>\n",
              "      <th>Occupation</th>\n",
              "      <th>Decision</th>\n",
              "      <th>Status</th>\n",
              "    </tr>\n",
              "  </thead>\n",
              "  <tbody>\n",
              "    <tr>\n",
              "      <th>0</th>\n",
              "      <td>5.0</td>\n",
              "      <td>26.0</td>\n",
              "      <td>0.0</td>\n",
              "      <td>42.0</td>\n",
              "      <td>1.0</td>\n",
              "      <td>1.0</td>\n",
              "    </tr>\n",
              "    <tr>\n",
              "      <th>1</th>\n",
              "      <td>5.0</td>\n",
              "      <td>19.0</td>\n",
              "      <td>1.0</td>\n",
              "      <td>60.0</td>\n",
              "      <td>1.0</td>\n",
              "      <td>1.0</td>\n",
              "    </tr>\n",
              "    <tr>\n",
              "      <th>2</th>\n",
              "      <td>5.0</td>\n",
              "      <td>10.0</td>\n",
              "      <td>0.0</td>\n",
              "      <td>34.0</td>\n",
              "      <td>1.0</td>\n",
              "      <td>0.0</td>\n",
              "    </tr>\n",
              "    <tr>\n",
              "      <th>3</th>\n",
              "      <td>5.0</td>\n",
              "      <td>29.0</td>\n",
              "      <td>1.0</td>\n",
              "      <td>26.0</td>\n",
              "      <td>1.0</td>\n",
              "      <td>0.0</td>\n",
              "    </tr>\n",
              "    <tr>\n",
              "      <th>4</th>\n",
              "      <td>5.0</td>\n",
              "      <td>47.0</td>\n",
              "      <td>0.0</td>\n",
              "      <td>48.0</td>\n",
              "      <td>0.0</td>\n",
              "      <td>0.0</td>\n",
              "    </tr>\n",
              "  </tbody>\n",
              "</table>\n",
              "</div>"
            ],
            "text/plain": [
              "   Location  Name  Gender  Occupation  Decision  Status\n",
              "0       5.0  26.0     0.0        42.0       1.0     1.0\n",
              "1       5.0  19.0     1.0        60.0       1.0     1.0\n",
              "2       5.0  10.0     0.0        34.0       1.0     0.0\n",
              "3       5.0  29.0     1.0        26.0       1.0     0.0\n",
              "4       5.0  47.0     0.0        48.0       0.0     0.0"
            ]
          },
          "metadata": {
            "tags": []
          },
          "execution_count": 10
        }
      ]
    },
    {
      "cell_type": "code",
      "metadata": {
        "id": "tK6Re-7WfFve",
        "colab_type": "code",
        "outputId": "07050134-a550-44e8-81f1-e7873bc61927",
        "colab": {
          "base_uri": "https://localhost:8080/",
          "height": 300
        }
      },
      "source": [
        "sns.countplot(catd_enc[catd_enc['Gender'] == 0.0].Decision)"
      ],
      "execution_count": 11,
      "outputs": [
        {
          "output_type": "execute_result",
          "data": {
            "text/plain": [
              "<matplotlib.axes._subplots.AxesSubplot at 0x7f9224422a90>"
            ]
          },
          "metadata": {
            "tags": []
          },
          "execution_count": 11
        },
        {
          "output_type": "display_data",
          "data": {
            "image/png": "[encoded data removed]",
            "text/plain": [
              "<Figure size 432x288 with 1 Axes>"
            ]
          },
          "metadata": {
            "tags": [],
            "needs_background": "light"
          }
        }
      ]
    },
    {
      "cell_type": "markdown",
      "metadata": {
        "id": "xzi6fmU0y8kv",
        "colab_type": "text"
      },
      "source": [
        "feature selection on numerical attributes"
      ]
    },
    {
      "cell_type": "code",
      "metadata": {
        "id": "YSJz-C6XfINK",
        "colab_type": "code",
        "colab": {}
      },
      "source": [
        "newd = pd.concat([numd,catd_enc['Decision']],axis = 1)"
      ],
      "execution_count": 0,
      "outputs": []
    },
    {
      "cell_type": "code",
      "metadata": {
        "id": "FC4bcKQPg2xe",
        "colab_type": "code",
        "outputId": "230b8cfb-a019-45f5-ba82-b259fd881a0d",
        "colab": {
          "base_uri": "https://localhost:8080/",
          "height": 386
        }
      },
      "source": [
        "sns.heatmap(newd.corr())"
      ],
      "execution_count": 13,
      "outputs": [
        {
          "output_type": "execute_result",
          "data": {
            "text/plain": [
              "<matplotlib.axes._subplots.AxesSubplot at 0x7f9222c5b780>"
            ]
          },
          "metadata": {
            "tags": []
          },
          "execution_count": 13
        },
        {
          "output_type": "display_data",
          "data": {
            "image/png": "[encoded data removed]",
            "text/plain": [
              "<Figure size 432x288 with 2 Axes>"
            ]
          },
          "metadata": {
            "tags": [],
            "needs_background": "light"
          }
        }
      ]
    },
    {
      "cell_type": "code",
      "metadata": {
        "id": "x4RfupLUg_M6",
        "colab_type": "code",
        "outputId": "f8f20602-2311-4443-a6ea-92b5014bffc4",
        "colab": {
          "base_uri": "https://localhost:8080/",
          "height": 144
        }
      },
      "source": [
        "from sklearn.ensemble import ExtraTreesRegressor\n",
        "etr = ExtraTreesRegressor()\n",
        "etr.fit(numd,catd_enc['Decision'])"
      ],
      "execution_count": 14,
      "outputs": [
        {
          "output_type": "execute_result",
          "data": {
            "text/plain": [
              "ExtraTreesRegressor(bootstrap=False, ccp_alpha=0.0, criterion='mse',\n",
              "                    max_depth=None, max_features='auto', max_leaf_nodes=None,\n",
              "                    max_samples=None, min_impurity_decrease=0.0,\n",
              "                    min_impurity_split=None, min_samples_leaf=1,\n",
              "                    min_samples_split=2, min_weight_fraction_leaf=0.0,\n",
              "                    n_estimators=100, n_jobs=None, oob_score=False,\n",
              "                    random_state=None, verbose=0, warm_start=False)"
            ]
          },
          "metadata": {
            "tags": []
          },
          "execution_count": 14
        }
      ]
    },
    {
      "cell_type": "code",
      "metadata": {
        "id": "39DTrVAohohe",
        "colab_type": "code",
        "colab": {}
      },
      "source": [
        "feat_importances = pd.Series(etr.feature_importances_,index = numd.columns)"
      ],
      "execution_count": 0,
      "outputs": []
    },
    {
      "cell_type": "code",
      "metadata": {
        "id": "AEXdEdRdiSKr",
        "colab_type": "code",
        "outputId": "d996282a-812c-4f0d-d7f7-67e9e651d8aa",
        "colab": {
          "base_uri": "https://localhost:8080/",
          "height": 235
        }
      },
      "source": [
        "feat_importances"
      ],
      "execution_count": 16,
      "outputs": [
        {
          "output_type": "execute_result",
          "data": {
            "text/plain": [
              "Couple                  0.454210\n",
              "Season                  0.109418\n",
              "Age                     0.339458\n",
              "DrPepperSchwartz        0.000000\n",
              "DrLoganLevkoff          0.009850\n",
              "DrJosephCilona          0.007862\n",
              "ChaplainGregEpstein     0.010657\n",
              "PastorCalvinRoberson    0.012636\n",
              "RachelDeAlto            0.007478\n",
              "DrJessicaGriffin        0.021157\n",
              "DrVivianaColes          0.027274\n",
              "dtype: float64"
            ]
          },
          "metadata": {
            "tags": []
          },
          "execution_count": 16
        }
      ]
    },
    {
      "cell_type": "code",
      "metadata": {
        "id": "mla6ZEw2hqra",
        "colab_type": "code",
        "outputId": "e156cb7e-b3e5-4f09-a42a-e21963834ff6",
        "colab": {
          "base_uri": "https://localhost:8080/",
          "height": 283
        }
      },
      "source": [
        "feat_importances.nlargest(10).plot(kind = 'barh')"
      ],
      "execution_count": 17,
      "outputs": [
        {
          "output_type": "execute_result",
          "data": {
            "text/plain": [
              "<matplotlib.axes._subplots.AxesSubplot at 0x7f921b88b5f8>"
            ]
          },
          "metadata": {
            "tags": []
          },
          "execution_count": 17
        },
        {
          "output_type": "display_data",
          "data": {
            "image/png": "[encoded data removed]",
            "text/plain": [
              "<Figure size 432x288 with 1 Axes>"
            ]
          },
          "metadata": {
            "tags": [],
            "needs_background": "light"
          }
        }
      ]
    },
    {
      "cell_type": "code",
      "metadata": {
        "id": "L5NMZ_Y8iKiL",
        "colab_type": "code",
        "colab": {}
      },
      "source": [
        "fd = numd[['Couple','Age','Season']]"
      ],
      "execution_count": 0,
      "outputs": []
    },
    {
      "cell_type": "markdown",
      "metadata": {
        "id": "--efmdYezEIP",
        "colab_type": "text"
      },
      "source": [
        "feature selection on categorical attributes"
      ]
    },
    {
      "cell_type": "code",
      "metadata": {
        "id": "woBQdMknihWg",
        "colab_type": "code",
        "outputId": "4b8272f9-d66f-4b53-d161-285104534af8",
        "colab": {
          "base_uri": "https://localhost:8080/",
          "height": 144
        }
      },
      "source": [
        "etr.fit(catd_enc[['Gender','Occupation','Status']],catd_enc['Decision'])"
      ],
      "execution_count": 19,
      "outputs": [
        {
          "output_type": "execute_result",
          "data": {
            "text/plain": [
              "ExtraTreesRegressor(bootstrap=False, ccp_alpha=0.0, criterion='mse',\n",
              "                    max_depth=None, max_features='auto', max_leaf_nodes=None,\n",
              "                    max_samples=None, min_impurity_decrease=0.0,\n",
              "                    min_impurity_split=None, min_samples_leaf=1,\n",
              "                    min_samples_split=2, min_weight_fraction_leaf=0.0,\n",
              "                    n_estimators=100, n_jobs=None, oob_score=False,\n",
              "                    random_state=None, verbose=0, warm_start=False)"
            ]
          },
          "metadata": {
            "tags": []
          },
          "execution_count": 19
        }
      ]
    },
    {
      "cell_type": "code",
      "metadata": {
        "id": "AH7ymFl7ix1R",
        "colab_type": "code",
        "outputId": "fb2b0b98-bc9c-4599-868c-6a1024e04651",
        "colab": {
          "base_uri": "https://localhost:8080/",
          "height": 283
        }
      },
      "source": [
        "feat_importances = pd.Series(etr.feature_importances_,index = ['Gender','Occupation','Status'])\n",
        "feat_importances.nlargest(10).plot(kind = 'barh')"
      ],
      "execution_count": 20,
      "outputs": [
        {
          "output_type": "execute_result",
          "data": {
            "text/plain": [
              "<matplotlib.axes._subplots.AxesSubplot at 0x7f921b816a20>"
            ]
          },
          "metadata": {
            "tags": []
          },
          "execution_count": 20
        },
        {
          "output_type": "display_data",
          "data": {
            "image/png": "[encoded data removed]",
            "text/plain": [
              "<Figure size 432x288 with 1 Axes>"
            ]
          },
          "metadata": {
            "tags": [],
            "needs_background": "light"
          }
        }
      ]
    },
    {
      "cell_type": "code",
      "metadata": {
        "id": "LZjGbI_tjBuj",
        "colab_type": "code",
        "colab": {}
      },
      "source": [
        "fd = pd.concat([fd,catd_enc[['Occupation','Status']]],axis = 1)"
      ],
      "execution_count": 0,
      "outputs": []
    },
    {
      "cell_type": "code",
      "metadata": {
        "id": "mnPCYS0WjMXK",
        "colab_type": "code",
        "outputId": "9620446c-59b8-401a-a5ca-696a58f1ae94",
        "colab": {
          "base_uri": "https://localhost:8080/",
          "height": 206
        }
      },
      "source": [
        "fd.head()"
      ],
      "execution_count": 24,
      "outputs": [
        {
          "output_type": "execute_result",
          "data": {
            "text/html": [
              "<div>\n",
              "<style scoped>\n",
              "    .dataframe tbody tr th:only-of-type {\n",
              "        vertical-align: middle;\n",
              "    }\n",
              "\n",
              "    .dataframe tbody tr th {\n",
              "        vertical-align: top;\n",
              "    }\n",
              "\n",
              "    .dataframe thead th {\n",
              "        text-align: right;\n",
              "    }\n",
              "</style>\n",
              "<table border=\"1\" class=\"dataframe\">\n",
              "  <thead>\n",
              "    <tr style=\"text-align: right;\">\n",
              "      <th></th>\n",
              "      <th>Couple</th>\n",
              "      <th>Age</th>\n",
              "      <th>Season</th>\n",
              "      <th>Occupation</th>\n",
              "      <th>Occupation</th>\n",
              "      <th>Status</th>\n",
              "    </tr>\n",
              "  </thead>\n",
              "  <tbody>\n",
              "    <tr>\n",
              "      <th>0</th>\n",
              "      <td>1</td>\n",
              "      <td>27</td>\n",
              "      <td>1</td>\n",
              "      <td>42.0</td>\n",
              "      <td>42.0</td>\n",
              "      <td>1.0</td>\n",
              "    </tr>\n",
              "    <tr>\n",
              "      <th>1</th>\n",
              "      <td>1</td>\n",
              "      <td>31</td>\n",
              "      <td>1</td>\n",
              "      <td>60.0</td>\n",
              "      <td>60.0</td>\n",
              "      <td>1.0</td>\n",
              "    </tr>\n",
              "    <tr>\n",
              "      <th>2</th>\n",
              "      <td>2</td>\n",
              "      <td>26</td>\n",
              "      <td>1</td>\n",
              "      <td>34.0</td>\n",
              "      <td>34.0</td>\n",
              "      <td>0.0</td>\n",
              "    </tr>\n",
              "    <tr>\n",
              "      <th>3</th>\n",
              "      <td>2</td>\n",
              "      <td>27</td>\n",
              "      <td>1</td>\n",
              "      <td>26.0</td>\n",
              "      <td>26.0</td>\n",
              "      <td>0.0</td>\n",
              "    </tr>\n",
              "    <tr>\n",
              "      <th>4</th>\n",
              "      <td>3</td>\n",
              "      <td>33</td>\n",
              "      <td>1</td>\n",
              "      <td>48.0</td>\n",
              "      <td>48.0</td>\n",
              "      <td>0.0</td>\n",
              "    </tr>\n",
              "  </tbody>\n",
              "</table>\n",
              "</div>"
            ],
            "text/plain": [
              "   Couple  Age  Season  Occupation  Occupation  Status\n",
              "0       1   27       1        42.0        42.0     1.0\n",
              "1       1   31       1        60.0        60.0     1.0\n",
              "2       2   26       1        34.0        34.0     0.0\n",
              "3       2   27       1        26.0        26.0     0.0\n",
              "4       3   33       1        48.0        48.0     0.0"
            ]
          },
          "metadata": {
            "tags": []
          },
          "execution_count": 24
        }
      ]
    },
    {
      "cell_type": "markdown",
      "metadata": {
        "id": "C7f-7eMczKWv",
        "colab_type": "text"
      },
      "source": [
        "train test split"
      ]
    },
    {
      "cell_type": "code",
      "metadata": {
        "id": "WTKPf3R-ji9h",
        "colab_type": "code",
        "colab": {}
      },
      "source": [
        "from sklearn.model_selection import train_test_split\n",
        "X = fd\n",
        "y = catd_enc['Decision']\n",
        "X_train,X_test,y_train,y_test = train_test_split(X,y,test_size = 0.25)"
      ],
      "execution_count": 0,
      "outputs": []
    },
    {
      "cell_type": "markdown",
      "metadata": {
        "id": "HBYzbZDfzPSX",
        "colab_type": "text"
      },
      "source": [
        "applying LinearSVC"
      ]
    },
    {
      "cell_type": "code",
      "metadata": {
        "id": "GyyisRgIjN32",
        "colab_type": "code",
        "outputId": "b4884ec3-8b77-449d-d1a9-8f10512cc519",
        "colab": {
          "base_uri": "https://localhost:8080/",
          "height": 90
        }
      },
      "source": [
        "from sklearn.svm import LinearSVC\n",
        "lr = LinearSVC(max_iter = 100000, C = 0.1,tol = 0.1)\n",
        "lr.fit(X_train,y_train)"
      ],
      "execution_count": 35,
      "outputs": [
        {
          "output_type": "execute_result",
          "data": {
            "text/plain": [
              "LinearSVC(C=0.1, class_weight=None, dual=True, fit_intercept=True,\n",
              "          intercept_scaling=1, loss='squared_hinge', max_iter=100000,\n",
              "          multi_class='ovr', penalty='l2', random_state=None, tol=0.1,\n",
              "          verbose=0)"
            ]
          },
          "metadata": {
            "tags": []
          },
          "execution_count": 35
        }
      ]
    },
    {
      "cell_type": "code",
      "metadata": {
        "id": "K9KGEZ7ijiKd",
        "colab_type": "code",
        "outputId": "350cd2b8-1254-4d8e-ea57-4fc09644ff64",
        "colab": {
          "base_uri": "https://localhost:8080/",
          "height": 35
        }
      },
      "source": [
        "lr.score(X_train,y_train)"
      ],
      "execution_count": 36,
      "outputs": [
        {
          "output_type": "execute_result",
          "data": {
            "text/plain": [
              "0.803921568627451"
            ]
          },
          "metadata": {
            "tags": []
          },
          "execution_count": 36
        }
      ]
    },
    {
      "cell_type": "code",
      "metadata": {
        "id": "cu-lIko9jcN6",
        "colab_type": "code",
        "outputId": "a52c8f82-ffe8-44c7-8689-13e6eae76d44",
        "colab": {
          "base_uri": "https://localhost:8080/",
          "height": 35
        }
      },
      "source": [
        "lr.score(X_test,y_test)"
      ],
      "execution_count": 37,
      "outputs": [
        {
          "output_type": "execute_result",
          "data": {
            "text/plain": [
              "0.7647058823529411"
            ]
          },
          "metadata": {
            "tags": []
          },
          "execution_count": 37
        }
      ]
    },
    {
      "cell_type": "markdown",
      "metadata": {
        "id": "UB9lxiEHndg5",
        "colab_type": "text"
      },
      "source": [
        "WE got 76% accuracy with so less data."
      ]
    }
  ]
}